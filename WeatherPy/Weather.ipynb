{
 "cells": [
  {
   "cell_type": "code",
   "execution_count": 1,
   "metadata": {},
   "outputs": [],
   "source": [
    "import matplotlib.pyplot as plt\n",
    "import pandas as pd\n",
    "import numpy as np\n",
    "import requests\n",
    "import time\n",
    "from api_keys import weather_api_key\n",
    "from citipy import citipy\n",
    "from scipy.stats import linregress"
   ]
  },
  {
   "cell_type": "code",
   "execution_count": 2,
   "metadata": {},
   "outputs": [
    {
     "data": {
      "text/plain": [
       "'http://api.openweathermap.org/data/2.5/weather?appid=6b9fca5bb7167ca8e527ee04dc1ced14&q=sauda'"
      ]
     },
     "execution_count": 2,
     "metadata": {},
     "output_type": "execute_result"
    }
   ],
   "source": [
    "url = \"http://api.openweathermap.org/data/2.5/weather?\"\n",
    "city = \"sauda\"\n",
    "\n",
    "# Build query URL\n",
    "query_url = url + \"appid=\" + weather_api_key + \"&q=\" + city\n",
    "response = requests.get(query_url).json()\n",
    "query_url"
   ]
  },
  {
   "cell_type": "code",
   "execution_count": 6,
   "metadata": {
    "scrolled": true
   },
   "outputs": [
    {
     "data": {
      "text/plain": [
       "{'coord': {'lon': 6.35, 'lat': 59.65},\n",
       " 'weather': [{'id': 500,\n",
       "   'main': 'Rain',\n",
       "   'description': 'light rain',\n",
       "   'icon': '10d'}],\n",
       " 'base': 'stations',\n",
       " 'main': {'temp': 289.26,\n",
       "  'feels_like': 290.6,\n",
       "  'temp_min': 289.26,\n",
       "  'temp_max': 289.26,\n",
       "  'pressure': 1012,\n",
       "  'humidity': 99},\n",
       " 'wind': {'speed': 0.9, 'deg': 271},\n",
       " 'rain': {'1h': 0.48},\n",
       " 'clouds': {'all': 100},\n",
       " 'dt': 1592664202,\n",
       " 'sys': {'type': 3,\n",
       "  'id': 2015976,\n",
       "  'country': 'NO',\n",
       "  'sunrise': 1592619252,\n",
       "  'sunset': 1592686694},\n",
       " 'timezone': 7200,\n",
       " 'id': 3140056,\n",
       " 'name': 'Sauda',\n",
       " 'cod': 200}"
      ]
     },
     "execution_count": 6,
     "metadata": {},
     "output_type": "execute_result"
    }
   ],
   "source": [
    "response"
   ]
  },
  {
   "cell_type": "code",
   "execution_count": 7,
   "metadata": {},
   "outputs": [
    {
     "data": {
      "text/plain": [
       "612"
      ]
     },
     "execution_count": 7,
     "metadata": {},
     "output_type": "execute_result"
    }
   ],
   "source": [
    "# Range of latitudes and longitudes\n",
    "lat_range = (-90, 90)\n",
    "lng_range = (-180, 180)\n",
    "\n",
    "# List for holding lat_lngs and cities\n",
    "lat_lngs = []\n",
    "cities = []\n",
    "\n",
    "# Create a set of random lat and lng combinations\n",
    "lats = np.random.uniform(lat_range[0], lat_range[1], size=1500)\n",
    "lngs = np.random.uniform(lng_range[0], lng_range[1], size=1500)\n",
    "lat_lngs = zip(lats, lngs)\n",
    "\n",
    "# Identify nearest city for each lat, lng combination\n",
    "for lat_lng in lat_lngs:\n",
    "    city = citipy.nearest_city(lat_lng[0], lat_lng[1]).city_name\n",
    "    \n",
    "    # If the city is unique, then add it to a our cities list\n",
    "    if city not in cities:\n",
    "        cities.append(city)\n",
    "\n",
    "# Print the city count to confirm sufficient count\n",
    "len(cities)"
   ]
  },
  {
   "cell_type": "code",
   "execution_count": 8,
   "metadata": {},
   "outputs": [
    {
     "name": "stdout",
     "output_type": "stream",
     "text": [
      "Processing Record 2 | tuatapere\n",
      "Processing Record 2 | urumqi\n",
      "Processing Record 2 | mataura\n",
      "Processing Record 2 | san vicente\n",
      "Processing Record 2 | iqaluit\n",
      "Processing Record 2 | butaritari\n",
      "Processing Record 2 | taunggyi\n",
      "Processing Record 2 | avarua\n",
      "Processing Record 2 | vila do maio\n",
      "Processing Record 2 | albany\n",
      "Processing Record 2 | grand forks\n",
      "Processing Record 2 | cabo san lucas\n",
      "Processing Record 2 | pevek\n",
      "Processing Record 2 | atuona\n",
      "Processing Record 2 | meulaboh\n",
      "Processing Record 2 | provideniya\n",
      "Processing Record 2 | new norfolk\n",
      "Processing Record 2 | torbay\n",
      "Processing Record 2 | punta arenas\n",
      "Processing Record 2 | pio xii\n",
      "Processing Record 2 | upernavik\n",
      "Processing Record 2 | chuy\n",
      "City not found. Skipping...\n",
      "Processing Record 2 | port elizabeth\n",
      "Processing Record 2 | khon buri\n",
      "Processing Record 2 | rikitea\n",
      "Processing Record 2 | fortuna\n",
      "Processing Record 2 | santa isabel do rio negro\n",
      "Processing Record 2 | kapaa\n",
      "Processing Record 2 | saskylakh\n",
      "City not found. Skipping...\n",
      "Processing Record 2 | barrow\n",
      "Processing Record 2 | qaqortoq\n",
      "Processing Record 2 | jamestown\n",
      "Processing Record 2 | hobyo\n",
      "Processing Record 2 | busselton\n",
      "Processing Record 2 | dauriya\n",
      "Processing Record 2 | saint-pierre\n",
      "Processing Record 2 | yellowknife\n",
      "Processing Record 2 | bluff\n",
      "Processing Record 2 | alta floresta\n",
      "Processing Record 2 | esperance\n",
      "Processing Record 2 | hilo\n",
      "City not found. Skipping...\n",
      "City not found. Skipping...\n",
      "Processing Record 2 | batticaloa\n",
      "Processing Record 2 | lompoc\n",
      "Processing Record 2 | hamilton\n",
      "City not found. Skipping...\n",
      "Processing Record 2 | ushuaia\n",
      "Processing Record 2 | katsuura\n",
      "Processing Record 2 | samarai\n",
      "Processing Record 2 | nikolskoye\n",
      "Processing Record 2 | kapit\n",
      "Processing Record 2 | boda\n",
      "Processing Record 2 | progreso\n",
      "Processing Record 2 | thompson\n",
      "Processing Record 2 | cabinda\n",
      "Processing Record 2 | lata\n",
      "Processing Record 2 | swan hill\n",
      "Processing Record 2 | bredasdorp\n",
      "Processing Record 2 | bundaberg\n",
      "Processing Record 2 | naze\n",
      "Processing Record 2 | ust-kuyga\n",
      "Processing Record 2 | tasiilaq\n",
      "Processing Record 2 | victoria\n",
      "Processing Record 2 | ribeira grande\n",
      "Processing Record 2 | grindavik\n",
      "Processing Record 2 | poya\n",
      "Processing Record 2 | port-gentil\n",
      "Processing Record 2 | tiksi\n",
      "Processing Record 2 | christchurch\n",
      "Processing Record 2 | chokurdakh\n",
      "Processing Record 2 | sitka\n",
      "Processing Record 2 | rio gallegos\n",
      "Processing Record 2 | vila velha\n",
      "Processing Record 2 | port hardy\n",
      "Processing Record 2 | hermanus\n",
      "Processing Record 2 | dikson\n",
      "Processing Record 2 | leningradskiy\n",
      "Processing Record 2 | korla\n",
      "Processing Record 2 | inhambane\n",
      "Processing Record 2 | bethel\n",
      "Processing Record 2 | longyearbyen\n",
      "Processing Record 2 | veinticinco de mayo\n",
      "Processing Record 2 | klyuchi\n",
      "Processing Record 2 | geraldton\n",
      "Processing Record 2 | agadez\n",
      "Processing Record 2 | bolshaya rechka\n",
      "Processing Record 2 | elko\n",
      "Processing Record 2 | lufilufi\n",
      "Processing Record 2 | havelock\n",
      "Processing Record 2 | termoli\n",
      "Processing Record 2 | manzanillo\n",
      "Processing Record 2 | ponta do sol\n",
      "Processing Record 2 | cayenne\n",
      "Processing Record 2 | bowen\n",
      "Processing Record 2 | port alfred\n",
      "Processing Record 2 | rumonge\n",
      "Processing Record 2 | miri\n",
      "City not found. Skipping...\n",
      "Processing Record 2 | wejherowo\n",
      "Processing Record 2 | verkhnyaya toyma\n",
      "Processing Record 2 | maceio\n",
      "Processing Record 2 | kommunisticheskiy\n",
      "Processing Record 2 | qaanaaq\n",
      "Processing Record 2 | richards bay\n",
      "Processing Record 2 | vanimo\n",
      "Processing Record 2 | ponta delgada\n",
      "Processing Record 2 | cidreira\n",
      "Processing Record 2 | hobart\n",
      "Processing Record 2 | coquimbo\n",
      "City not found. Skipping...\n",
      "Processing Record 2 | zemio\n",
      "Processing Record 2 | mbaiki\n",
      "City not found. Skipping...\n",
      "Processing Record 2 | sijunjung\n",
      "Processing Record 2 | trelew\n",
      "City not found. Skipping...\n",
      "Processing Record 2 | airai\n",
      "Processing Record 2 | norman wells\n",
      "City not found. Skipping...\n",
      "Processing Record 2 | kiruna\n",
      "Processing Record 2 | rio grande\n",
      "Processing Record 2 | abomsa\n",
      "Processing Record 2 | carnarvon\n",
      "Processing Record 2 | gat\n",
      "Processing Record 2 | cape town\n",
      "Processing Record 2 | tongliao\n",
      "Processing Record 2 | novikovo\n",
      "Processing Record 2 | zhireken\n",
      "Processing Record 2 | nizwa\n",
      "Processing Record 2 | muros\n",
      "Processing Record 2 | dingle\n",
      "Processing Record 2 | tuktoyaktuk\n",
      "Processing Record 2 | guerrero negro\n",
      "Processing Record 2 | keti bandar\n",
      "Processing Record 2 | cervo\n",
      "City not found. Skipping...\n",
      "Processing Record 2 | lebu\n",
      "Processing Record 2 | oromocto\n",
      "Processing Record 2 | beian\n",
      "Processing Record 2 | pimentel\n",
      "Processing Record 2 | sayyan\n",
      "Processing Record 2 | moose factory\n",
      "Processing Record 2 | tyulgan\n",
      "Processing Record 2 | los llanos de aridane\n",
      "Processing Record 2 | the valley\n",
      "Processing Record 2 | puerto leguizamo\n",
      "Processing Record 2 | benguela\n",
      "City not found. Skipping...\n",
      "Processing Record 2 | makakilo city\n",
      "Processing Record 2 | college\n",
      "Processing Record 2 | grand gaube\n",
      "Processing Record 2 | georgetown\n",
      "Processing Record 2 | east london\n",
      "Processing Record 2 | san patricio\n",
      "Processing Record 2 | waipawa\n",
      "Processing Record 2 | urdoma\n",
      "Processing Record 2 | bengkulu\n",
      "Processing Record 2 | khurba\n",
      "Processing Record 2 | caravelas\n",
      "Processing Record 2 | kaeo\n",
      "City not found. Skipping...\n",
      "Processing Record 2 | panguipulli\n",
      "Processing Record 2 | vaini\n",
      "Processing Record 2 | karratha\n",
      "Processing Record 2 | paranaiba\n",
      "City not found. Skipping...\n",
      "Processing Record 2 | central point\n",
      "Processing Record 2 | adrar\n",
      "Processing Record 2 | praia\n",
      "Processing Record 2 | atambua\n",
      "Processing Record 2 | hithadhoo\n",
      "Processing Record 2 | yerbogachen\n",
      "Processing Record 2 | soure\n",
      "Processing Record 2 | turukhansk\n",
      "Processing Record 2 | trinidad\n",
      "Processing Record 2 | mutsu\n",
      "Processing Record 2 | prado\n",
      "Processing Record 2 | kitimat\n",
      "Processing Record 2 | kruisfontein\n",
      "Processing Record 2 | cozumel\n",
      "Processing Record 2 | puerto ayora\n",
      "Processing Record 2 | paamiut\n",
      "Processing Record 2 | gushikawa\n",
      "Processing Record 2 | ekhabi\n",
      "Processing Record 2 | morehead\n",
      "City not found. Skipping...\n",
      "Processing Record 2 | olafsvik\n",
      "Processing Record 2 | saint-philippe\n",
      "City not found. Skipping...\n",
      "Processing Record 2 | krasnyy kholm\n",
      "Processing Record 2 | palanga\n",
      "Processing Record 2 | narsaq\n",
      "Processing Record 2 | talnakh\n",
      "Processing Record 2 | lamesa\n",
      "Processing Record 2 | kodiak\n",
      "City not found. Skipping...\n",
      "Processing Record 2 | camacha\n",
      "Processing Record 2 | hasaki\n",
      "City not found. Skipping...\n",
      "Processing Record 2 | saldanha\n",
      "Processing Record 2 | opuwo\n",
      "Processing Record 2 | ilulissat\n",
      "Processing Record 2 | buraydah\n",
      "Processing Record 2 | port blair\n",
      "Processing Record 2 | chicama\n",
      "Processing Record 2 | byron bay\n",
      "Processing Record 2 | synya\n",
      "Processing Record 2 | kars\n",
      "Processing Record 2 | bahia blanca\n",
      "Processing Record 2 | ulladulla\n",
      "City not found. Skipping...\n",
      "City not found. Skipping...\n",
      "Processing Record 2 | coffs harbour\n",
      "Processing Record 2 | jurilovca\n",
      "Processing Record 2 | arraial do cabo\n",
      "Processing Record 2 | ocala\n",
      "Processing Record 2 | labuhan\n",
      "City not found. Skipping...\n",
      "Processing Record 2 | kirksville\n",
      "Processing Record 2 | alyangula\n",
      "Processing Record 2 | monkey bay\n",
      "Processing Record 2 | vanderhoof\n",
      "Processing Record 2 | ipixuna\n",
      "Processing Record 2 | shadegan\n",
      "Processing Record 2 | knysna\n",
      "Processing Record 2 | ketchikan\n",
      "Processing Record 2 | balkanabat\n",
      "Processing Record 2 | alice springs\n",
      "Processing Record 2 | gurupa\n",
      "Processing Record 2 | egvekinot\n",
      "Processing Record 2 | jalu\n",
      "Processing Record 2 | vieques\n",
      "Processing Record 2 | karasburg\n",
      "Processing Record 2 | jinchang\n",
      "Processing Record 2 | portobelo\n",
      "Processing Record 2 | lucapa\n",
      "Processing Record 2 | aleksandrov gay\n",
      "Processing Record 2 | metro\n",
      "Processing Record 2 | kutum\n",
      "Processing Record 2 | kenai\n",
      "Processing Record 2 | viesite\n",
      "Processing Record 2 | asyut\n",
      "Processing Record 2 | mossoro\n",
      "Processing Record 2 | saint george\n",
      "Processing Record 2 | oksfjord\n",
      "Processing Record 2 | clyde river\n",
      "Processing Record 2 | castlemaine\n",
      "Processing Record 2 | mana\n",
      "Processing Record 2 | mahebourg\n",
      "Processing Record 2 | bambous virieux\n",
      "City not found. Skipping...\n",
      "Processing Record 2 | mar del plata\n",
      "Processing Record 2 | malanje\n",
      "Processing Record 2 | isla mujeres\n",
      "Processing Record 2 | walvis bay\n",
      "Processing Record 2 | kamaishi\n",
      "Processing Record 2 | khatanga\n",
      "Processing Record 2 | hambantota\n",
      "City not found. Skipping...\n",
      "Processing Record 2 | ereymentau\n"
     ]
    },
    {
     "name": "stdout",
     "output_type": "stream",
     "text": [
      "Processing Record 2 | katsuyama\n",
      "Processing Record 2 | aswan\n",
      "Processing Record 2 | oranjestad\n",
      "Processing Record 2 | vila franca do campo\n",
      "Processing Record 2 | kishcha\n",
      "Processing Record 2 | cam ranh\n",
      "Processing Record 2 | brae\n",
      "Processing Record 2 | banda aceh\n",
      "Processing Record 2 | san quintin\n",
      "Processing Record 2 | young\n",
      "Processing Record 2 | altay\n",
      "Processing Record 2 | limbang\n",
      "Processing Record 2 | asfi\n",
      "Processing Record 2 | sao filipe\n",
      "Processing Record 2 | yeppoon\n",
      "Processing Record 2 | port lincoln\n",
      "Processing Record 2 | san juan\n",
      "Processing Record 2 | port augusta\n",
      "Processing Record 2 | tanggu\n",
      "Processing Record 2 | anqing\n",
      "Processing Record 2 | merauke\n",
      "Processing Record 2 | marawi\n",
      "Processing Record 2 | puerto del rosario\n",
      "City not found. Skipping...\n",
      "Processing Record 2 | lazaro cardenas\n",
      "Processing Record 2 | lorengau\n",
      "Processing Record 2 | kaohsiung\n",
      "Processing Record 2 | champerico\n",
      "Processing Record 2 | corinto\n",
      "Processing Record 2 | seoul\n",
      "Processing Record 2 | maniitsoq\n",
      "City not found. Skipping...\n",
      "Processing Record 2 | igarka\n",
      "City not found. Skipping...\n",
      "Processing Record 2 | lashio\n",
      "Processing Record 2 | oktyabrskiy\n",
      "Processing Record 2 | lebedinyy\n",
      "Processing Record 2 | ukiah\n",
      "Processing Record 2 | atar\n",
      "Processing Record 2 | hidalgotitlan\n",
      "Processing Record 2 | aykhal\n",
      "Processing Record 2 | wajid\n",
      "Processing Record 2 | agarak\n",
      "Processing Record 2 | wanaka\n",
      "Processing Record 2 | barcelos\n",
      "Processing Record 2 | privolzhskiy\n",
      "Processing Record 2 | kama\n",
      "Processing Record 2 | yumen\n",
      "Processing Record 2 | itarema\n",
      "Processing Record 2 | acapulco\n",
      "Processing Record 2 | castro\n",
      "Processing Record 2 | avera\n",
      "Processing Record 2 | mattru\n",
      "Processing Record 2 | saint-joseph\n",
      "Processing Record 2 | arsenyev\n",
      "Processing Record 2 | gardelegen\n",
      "Processing Record 2 | vao\n",
      "Processing Record 2 | half moon bay\n",
      "Processing Record 2 | rabat\n",
      "Processing Record 2 | souillac\n",
      "Processing Record 2 | laguna\n",
      "Processing Record 2 | te kauwhata\n",
      "Processing Record 2 | olinda\n",
      "Processing Record 2 | sisimiut\n",
      "City not found. Skipping...\n",
      "Processing Record 2 | dwarka\n",
      "Processing Record 2 | skibotn\n",
      "Processing Record 2 | peniche\n",
      "Processing Record 2 | gazanjyk\n",
      "Processing Record 2 | ostrovnoy\n",
      "Processing Record 2 | birjand\n",
      "Processing Record 2 | ratne\n",
      "City not found. Skipping...\n",
      "Processing Record 2 | manitowoc\n",
      "Processing Record 2 | port said\n",
      "Processing Record 2 | saint-ambroise\n",
      "Processing Record 2 | mandiana\n",
      "Processing Record 2 | severo-kurilsk\n",
      "Processing Record 2 | abu samrah\n",
      "Processing Record 2 | skibbereen\n",
      "Processing Record 2 | kaitangata\n",
      "Processing Record 2 | kolpny\n",
      "Processing Record 2 | namanyere\n",
      "Processing Record 2 | vila\n",
      "Processing Record 2 | mount gambier\n",
      "Processing Record 2 | galbshtadt\n",
      "Processing Record 2 | belozerskoye\n",
      "Processing Record 2 | riosucio\n",
      "Processing Record 2 | wattegama\n",
      "Processing Record 2 | sheboygan\n",
      "Processing Record 2 | doka\n",
      "Processing Record 2 | xixiang\n",
      "Processing Record 2 | mantua\n",
      "Processing Record 2 | mareeba\n",
      "Processing Record 2 | mtinko\n",
      "City not found. Skipping...\n",
      "Processing Record 2 | alford\n",
      "City not found. Skipping...\n",
      "Processing Record 2 | ancud\n",
      "Processing Record 2 | goure\n",
      "Processing Record 2 | andenes\n",
      "Processing Record 2 | pavlikeni\n",
      "Processing Record 2 | gao\n",
      "Processing Record 2 | liverpool\n",
      "Processing Record 2 | storforshei\n",
      "Processing Record 2 | hudson bay\n",
      "Processing Record 2 | yelizovo\n",
      "Processing Record 2 | belyy yar\n",
      "Processing Record 2 | sabang\n",
      "Processing Record 2 | yongan\n",
      "Processing Record 2 | westport\n",
      "Processing Record 2 | tatarskaya pishlya\n",
      "City not found. Skipping...\n",
      "Processing Record 2 | oksbol\n",
      "Processing Record 2 | tabory\n",
      "Processing Record 2 | kavaratti\n",
      "Processing Record 2 | praia da vitoria\n",
      "Processing Record 2 | vardo\n",
      "Processing Record 2 | port macquarie\n",
      "Processing Record 2 | honningsvag\n",
      "Processing Record 2 | burnie\n",
      "Processing Record 2 | nalchiti\n",
      "Processing Record 2 | reconquista\n",
      "Processing Record 2 | ternate\n",
      "Processing Record 2 | vicuna\n",
      "Processing Record 2 | faanui\n",
      "Processing Record 2 | rabo de peixe\n",
      "Processing Record 2 | bayir\n",
      "Processing Record 2 | road town\n",
      "Processing Record 2 | tessalit\n",
      "Processing Record 2 | key west\n",
      "Processing Record 2 | margate\n",
      "Processing Record 2 | isakly\n",
      "Processing Record 2 | portland\n",
      "Processing Record 2 | ginir\n",
      "Processing Record 2 | cherskiy\n",
      "Processing Record 2 | beloha\n",
      "Processing Record 2 | springdale\n",
      "Processing Record 2 | guisa\n",
      "Processing Record 2 | komsomolskiy\n",
      "Processing Record 2 | mitsamiouli\n",
      "Processing Record 2 | jian\n",
      "Processing Record 2 | morondava\n",
      "Processing Record 2 | damietta\n",
      "Processing Record 2 | palmer\n",
      "Processing Record 2 | codrington\n",
      "Processing Record 2 | lima\n",
      "Processing Record 2 | kavieng\n",
      "Processing Record 2 | manokwari\n",
      "Processing Record 2 | bongandanga\n",
      "Processing Record 2 | kargil\n",
      "Processing Record 2 | pangai\n",
      "Processing Record 2 | vilhena\n",
      "Processing Record 2 | jiayuguan\n",
      "Processing Record 2 | evensk\n",
      "Processing Record 2 | baracoa\n",
      "Processing Record 2 | saint anthony\n",
      "Processing Record 2 | necochea\n",
      "Processing Record 2 | gbadolite\n",
      "Processing Record 2 | comodoro rivadavia\n",
      "Processing Record 2 | salalah\n",
      "Processing Record 2 | guane\n",
      "Processing Record 2 | songjianghe\n",
      "Processing Record 2 | marystown\n",
      "Processing Record 2 | nadvoitsy\n",
      "Processing Record 2 | yagodnoye\n",
      "City not found. Skipping...\n",
      "Processing Record 2 | lewistown\n",
      "Processing Record 2 | sakaiminato\n",
      "Processing Record 2 | goderich\n",
      "Processing Record 2 | pangoa\n",
      "Processing Record 2 | la asuncion\n",
      "Processing Record 2 | broome\n",
      "Processing Record 2 | nabire\n",
      "Processing Record 2 | salym\n",
      "Processing Record 2 | beringovskiy\n",
      "Processing Record 2 | xining\n",
      "City not found. Skipping...\n",
      "Processing Record 2 | batagay-alyta\n",
      "Processing Record 2 | fairbanks\n",
      "Processing Record 2 | chapais\n",
      "Processing Record 2 | ranong\n",
      "City not found. Skipping...\n",
      "Processing Record 2 | alugan\n",
      "Processing Record 2 | gamba\n",
      "Processing Record 2 | henties bay\n",
      "Processing Record 2 | antsla\n",
      "Processing Record 2 | mackay\n",
      "Processing Record 2 | nouadhibou\n",
      "City not found. Skipping...\n",
      "Processing Record 2 | lavrentiya\n",
      "Processing Record 2 | bilma\n",
      "Processing Record 2 | namatanai\n",
      "Processing Record 2 | nishihara\n",
      "Processing Record 2 | nueva italia\n",
      "Processing Record 2 | broken hill\n",
      "Processing Record 2 | boundiali\n",
      "Processing Record 2 | campbellford\n",
      "Processing Record 2 | kedougou\n",
      "Processing Record 2 | kloulklubed\n",
      "Processing Record 2 | ken caryl\n",
      "Processing Record 2 | kununurra\n",
      "Processing Record 2 | srednekolymsk\n",
      "Processing Record 2 | bauchi\n",
      "Processing Record 2 | nome\n",
      "Processing Record 2 | gayny\n",
      "Processing Record 2 | nioro\n",
      "Processing Record 2 | bilina\n",
      "Processing Record 2 | birin\n",
      "Processing Record 2 | poum\n",
      "Processing Record 2 | naldurg\n",
      "Processing Record 2 | yanam\n",
      "Processing Record 2 | tiznit\n",
      "Processing Record 2 | camocim\n",
      "Processing Record 2 | charters towers\n",
      "Processing Record 2 | ventersburg\n",
      "Processing Record 2 | whitecourt\n",
      "Processing Record 2 | pacific grove\n",
      "Processing Record 2 | besancon\n",
      "Processing Record 2 | swift current\n",
      "Processing Record 2 | soe\n",
      "Processing Record 2 | chupaca\n",
      "Processing Record 2 | tiassale\n",
      "Processing Record 2 | la ronge\n",
      "Processing Record 2 | coihaique\n",
      "Processing Record 2 | hervey bay\n",
      "Processing Record 2 | pisco\n",
      "Processing Record 2 | nanortalik\n",
      "Processing Record 2 | kabinda\n",
      "Processing Record 2 | ligayan\n",
      "Processing Record 2 | sambava\n",
      "Processing Record 2 | karangampel\n",
      "Processing Record 2 | coolum beach\n",
      "Processing Record 2 | toora-khem\n",
      "Processing Record 2 | krasnoselkup\n",
      "Processing Record 2 | tura\n",
      "Processing Record 2 | jieshi\n",
      "Processing Record 2 | fort saint james\n",
      "Processing Record 2 | luwuk\n",
      "Processing Record 2 | tarakan\n",
      "Processing Record 2 | mehamn\n",
      "Processing Record 2 | say\n",
      "Processing Record 2 | golyshmanovo\n",
      "Processing Record 2 | manica\n",
      "Processing Record 2 | mackenzie\n",
      "Processing Record 2 | ratnagiri\n",
      "City not found. Skipping...\n",
      "Processing Record 2 | gemena\n",
      "Processing Record 2 | nagato\n",
      "Processing Record 2 | orangeville\n",
      "Processing Record 2 | abapo\n",
      "Processing Record 2 | ixtapa\n",
      "Processing Record 2 | zhanaozen\n",
      "Processing Record 2 | talara\n",
      "Processing Record 2 | tutoia\n",
      "Processing Record 2 | alindao\n",
      "Processing Record 2 | santa clara\n",
      "Processing Record 2 | lagoa\n",
      "Processing Record 2 | anadyr\n",
      "Processing Record 2 | luyang\n",
      "Processing Record 2 | klaebu\n",
      "Processing Record 2 | macusani\n",
      "Processing Record 2 | aksu\n",
      "Processing Record 2 | taoudenni\n",
      "Processing Record 2 | khasan\n"
     ]
    },
    {
     "name": "stdout",
     "output_type": "stream",
     "text": [
      "Processing Record 2 | moyale\n",
      "Processing Record 2 | yulara\n",
      "Processing Record 2 | sur\n",
      "Processing Record 2 | khash\n",
      "Processing Record 2 | monrovia\n",
      "Processing Record 2 | dunedin\n",
      "Processing Record 2 | boguchany\n",
      "Processing Record 2 | wanning\n",
      "Processing Record 2 | oktyabrskoye\n",
      "Processing Record 2 | sept-iles\n",
      "Processing Record 2 | bulawayo\n",
      "Processing Record 2 | millinocket\n",
      "Processing Record 2 | deputatskiy\n",
      "Processing Record 2 | nizhnyaya omka\n",
      "Processing Record 2 | kieta\n",
      "Processing Record 2 | snasa\n",
      "Processing Record 2 | najran\n",
      "Processing Record 2 | huanren\n",
      "Processing Record 2 | pampa\n",
      "Processing Record 2 | north bend\n",
      "Processing Record 2 | ibra\n",
      "Processing Record 2 | kenora\n",
      "Processing Record 2 | sumbe\n",
      "Processing Record 2 | camopi\n",
      "Processing Record 2 | tautira\n",
      "Processing Record 2 | wuwei\n",
      "Processing Record 2 | ayr\n",
      "City not found. Skipping...\n",
      "Processing Record 2 | chunhuhub\n",
      "Processing Record 2 | alappuzha\n",
      "Processing Record 2 | miranda\n",
      "Processing Record 2 | hachinohe\n",
      "Processing Record 2 | bandarbeyla\n",
      "Processing Record 2 | mnogovershinnyy\n",
      "Processing Record 2 | san jose\n",
      "City not found. Skipping...\n",
      "Processing Record 2 | berlevag\n",
      "Processing Record 2 | coruripe\n",
      "Processing Record 2 | izhma\n",
      "Processing Record 2 | trat\n",
      "Processing Record 2 | shubarshi\n",
      "Processing Record 2 | milkovo\n",
      "Processing Record 2 | klaksvik\n",
      "City not found. Skipping...\n",
      "Processing Record 2 | shingu\n",
      "Processing Record 2 | atasu\n",
      "Processing Record 2 | krasnoarmeysk\n",
      "Processing Record 2 | del rio\n",
      "City not found. Skipping...\n",
      "Processing Record 2 | boddam\n",
      "Processing Record 2 | nantucket\n",
      "Processing Record 2 | derzhavinsk\n",
      "Processing Record 2 | dicabisagan\n",
      "Processing Record 2 | tabuk\n",
      "City not found. Skipping...\n",
      "Processing Record 2 | letka\n",
      "Processing Record 2 | latung\n",
      "Processing Record 2 | solton\n",
      "Processing Record 2 | puerto madryn\n",
      "City not found. Skipping...\n",
      "Processing Record 2 | safford\n",
      "Processing Record 2 | kamenka\n",
      "Processing Record 2 | saint-michel-des-saints\n",
      "Processing Record 2 | barbastro\n",
      "Processing Record 2 | ambilobe\n",
      "Processing Record 2 | muzhi\n",
      "Processing Record 2 | nichinan\n",
      "Processing Record 2 | madisonville\n",
      "Processing Record 2 | shetpe\n",
      "Processing Record 2 | camacari\n",
      "Processing Record 2 | wajima\n",
      "Processing Record 2 | kabwe\n",
      "Processing Record 2 | neryungri\n",
      "Processing Record 2 | oranjemund\n",
      "Processing Record 2 | uige\n",
      "Processing Record 2 | mayo\n",
      "Processing Record 2 | rosa zarate\n",
      "Processing Record 2 | nemuro\n",
      "Processing Record 2 | nara\n",
      "Processing Record 2 | flin flon\n",
      "Processing Record 2 | saint-francois\n",
      "Processing Record 2 | ongandjera\n",
      "Processing Record 2 | indramayu\n",
      "Processing Record 2 | beyneu\n"
     ]
    }
   ],
   "source": [
    "record_num = 1\n",
    "lat = []\n",
    "lng = []\n",
    "max_temp = []\n",
    "humidity = []\n",
    "cloudiness = []\n",
    "wind_speed = []\n",
    "country = []\n",
    "date = []\n",
    "city_name = []\n",
    "\n",
    "url = \"http://api.openweathermap.org/data/2.5/weather?\"\n",
    "units = \"imperial\"\n",
    "# partial query URL\n",
    "query_url = f\"{url}appid={weather_api_key}&units={units}&q=\"\n",
    "\n",
    "for city in cities:\n",
    "    try:\n",
    "        new_record_num = record_num + 1\n",
    "        data_json = requests.get(query_url + city).json()\n",
    "        lat.append(data_json[\"coord\"][\"lat\"])\n",
    "        lng.append(data_json[\"coord\"][\"lon\"])\n",
    "        max_temp.append(data_json[\"main\"][\"temp_max\"])\n",
    "        cloudiness.append(data_json[\"clouds\"][\"all\"])\n",
    "        humidity.append(response[\"main\"][\"humidity\"])\n",
    "        wind_speed.append(data_json[\"wind\"][\"speed\"])\n",
    "        country.append(data_json[\"sys\"][\"country\"])\n",
    "        date.append(data_json[\"dt\"])\n",
    "        city_name.append(city)\n",
    "        print(f\"Processing Record {new_record_num} | {city}\")\n",
    " \n",
    "    except:\n",
    "         print(\"City not found. Skipping...\")"
   ]
  },
  {
   "cell_type": "code",
   "execution_count": 9,
   "metadata": {
    "scrolled": true
   },
   "outputs": [
    {
     "data": {
      "text/html": [
       "<div>\n",
       "<style scoped>\n",
       "    .dataframe tbody tr th:only-of-type {\n",
       "        vertical-align: middle;\n",
       "    }\n",
       "\n",
       "    .dataframe tbody tr th {\n",
       "        vertical-align: top;\n",
       "    }\n",
       "\n",
       "    .dataframe thead th {\n",
       "        text-align: right;\n",
       "    }\n",
       "</style>\n",
       "<table border=\"1\" class=\"dataframe\">\n",
       "  <thead>\n",
       "    <tr style=\"text-align: right;\">\n",
       "      <th></th>\n",
       "      <th>Cities</th>\n",
       "      <th>Latitude</th>\n",
       "      <th>Longitude</th>\n",
       "      <th>Temp</th>\n",
       "      <th>Humidity</th>\n",
       "      <th>Cloudiness</th>\n",
       "      <th>Windspeed</th>\n",
       "      <th>Country</th>\n",
       "      <th>Date</th>\n",
       "    </tr>\n",
       "  </thead>\n",
       "  <tbody>\n",
       "    <tr>\n",
       "      <th>0</th>\n",
       "      <td>tuatapere</td>\n",
       "      <td>-46.13</td>\n",
       "      <td>167.68</td>\n",
       "      <td>39.00</td>\n",
       "      <td>99</td>\n",
       "      <td>65</td>\n",
       "      <td>3.00</td>\n",
       "      <td>NZ</td>\n",
       "      <td>1592664245</td>\n",
       "    </tr>\n",
       "    <tr>\n",
       "      <th>1</th>\n",
       "      <td>urumqi</td>\n",
       "      <td>43.80</td>\n",
       "      <td>87.60</td>\n",
       "      <td>82.40</td>\n",
       "      <td>99</td>\n",
       "      <td>40</td>\n",
       "      <td>6.71</td>\n",
       "      <td>CN</td>\n",
       "      <td>1592664245</td>\n",
       "    </tr>\n",
       "    <tr>\n",
       "      <th>2</th>\n",
       "      <td>mataura</td>\n",
       "      <td>-46.19</td>\n",
       "      <td>168.86</td>\n",
       "      <td>39.00</td>\n",
       "      <td>99</td>\n",
       "      <td>54</td>\n",
       "      <td>3.00</td>\n",
       "      <td>NZ</td>\n",
       "      <td>1592664245</td>\n",
       "    </tr>\n",
       "    <tr>\n",
       "      <th>3</th>\n",
       "      <td>san vicente</td>\n",
       "      <td>-26.62</td>\n",
       "      <td>-54.13</td>\n",
       "      <td>77.32</td>\n",
       "      <td>99</td>\n",
       "      <td>23</td>\n",
       "      <td>7.94</td>\n",
       "      <td>AR</td>\n",
       "      <td>1592664245</td>\n",
       "    </tr>\n",
       "    <tr>\n",
       "      <th>4</th>\n",
       "      <td>iqaluit</td>\n",
       "      <td>63.75</td>\n",
       "      <td>-68.51</td>\n",
       "      <td>39.20</td>\n",
       "      <td>99</td>\n",
       "      <td>75</td>\n",
       "      <td>5.82</td>\n",
       "      <td>CA</td>\n",
       "      <td>1592664245</td>\n",
       "    </tr>\n",
       "    <tr>\n",
       "      <th>...</th>\n",
       "      <td>...</td>\n",
       "      <td>...</td>\n",
       "      <td>...</td>\n",
       "      <td>...</td>\n",
       "      <td>...</td>\n",
       "      <td>...</td>\n",
       "      <td>...</td>\n",
       "      <td>...</td>\n",
       "      <td>...</td>\n",
       "    </tr>\n",
       "    <tr>\n",
       "      <th>565</th>\n",
       "      <td>flin flon</td>\n",
       "      <td>54.77</td>\n",
       "      <td>-101.86</td>\n",
       "      <td>46.40</td>\n",
       "      <td>99</td>\n",
       "      <td>90</td>\n",
       "      <td>5.82</td>\n",
       "      <td>CA</td>\n",
       "      <td>1592664340</td>\n",
       "    </tr>\n",
       "    <tr>\n",
       "      <th>566</th>\n",
       "      <td>saint-francois</td>\n",
       "      <td>46.42</td>\n",
       "      <td>3.91</td>\n",
       "      <td>73.40</td>\n",
       "      <td>99</td>\n",
       "      <td>28</td>\n",
       "      <td>5.82</td>\n",
       "      <td>FR</td>\n",
       "      <td>1592664340</td>\n",
       "    </tr>\n",
       "    <tr>\n",
       "      <th>567</th>\n",
       "      <td>ongandjera</td>\n",
       "      <td>-17.88</td>\n",
       "      <td>15.07</td>\n",
       "      <td>74.07</td>\n",
       "      <td>99</td>\n",
       "      <td>53</td>\n",
       "      <td>3.29</td>\n",
       "      <td>NA</td>\n",
       "      <td>1592664340</td>\n",
       "    </tr>\n",
       "    <tr>\n",
       "      <th>568</th>\n",
       "      <td>indramayu</td>\n",
       "      <td>-6.33</td>\n",
       "      <td>108.32</td>\n",
       "      <td>80.60</td>\n",
       "      <td>99</td>\n",
       "      <td>97</td>\n",
       "      <td>9.53</td>\n",
       "      <td>ID</td>\n",
       "      <td>1592664340</td>\n",
       "    </tr>\n",
       "    <tr>\n",
       "      <th>569</th>\n",
       "      <td>beyneu</td>\n",
       "      <td>45.32</td>\n",
       "      <td>55.20</td>\n",
       "      <td>89.64</td>\n",
       "      <td>99</td>\n",
       "      <td>3</td>\n",
       "      <td>21.16</td>\n",
       "      <td>KZ</td>\n",
       "      <td>1592664340</td>\n",
       "    </tr>\n",
       "  </tbody>\n",
       "</table>\n",
       "<p>570 rows × 9 columns</p>\n",
       "</div>"
      ],
      "text/plain": [
       "             Cities  Latitude  Longitude   Temp  Humidity  Cloudiness  \\\n",
       "0         tuatapere    -46.13     167.68  39.00        99          65   \n",
       "1            urumqi     43.80      87.60  82.40        99          40   \n",
       "2           mataura    -46.19     168.86  39.00        99          54   \n",
       "3       san vicente    -26.62     -54.13  77.32        99          23   \n",
       "4           iqaluit     63.75     -68.51  39.20        99          75   \n",
       "..              ...       ...        ...    ...       ...         ...   \n",
       "565       flin flon     54.77    -101.86  46.40        99          90   \n",
       "566  saint-francois     46.42       3.91  73.40        99          28   \n",
       "567      ongandjera    -17.88      15.07  74.07        99          53   \n",
       "568       indramayu     -6.33     108.32  80.60        99          97   \n",
       "569          beyneu     45.32      55.20  89.64        99           3   \n",
       "\n",
       "     Windspeed Country        Date  \n",
       "0         3.00      NZ  1592664245  \n",
       "1         6.71      CN  1592664245  \n",
       "2         3.00      NZ  1592664245  \n",
       "3         7.94      AR  1592664245  \n",
       "4         5.82      CA  1592664245  \n",
       "..         ...     ...         ...  \n",
       "565       5.82      CA  1592664340  \n",
       "566       5.82      FR  1592664340  \n",
       "567       3.29      NA  1592664340  \n",
       "568       9.53      ID  1592664340  \n",
       "569      21.16      KZ  1592664340  \n",
       "\n",
       "[570 rows x 9 columns]"
      ]
     },
     "execution_count": 9,
     "metadata": {},
     "output_type": "execute_result"
    }
   ],
   "source": [
    "# Convert Raw Data to DataFrame\n",
    "# Export the city data into a .csv.\n",
    "# Display the DataFrame\n",
    "\n",
    "weather_dict = {\"Cities\" : city_name, \"Latitude\":lat, \"Longitude\":lng, \"Temp\" : max_temp, \"Humidity\": humidity,\n",
    "                \"Cloudiness\": cloudiness, \"Windspeed\" : wind_speed, \"Country\":country, \"Date\": date}\n",
    "\n",
    "weather_df = pd.DataFrame(weather_dict)\n",
    "weather_df"
   ]
  },
  {
   "cell_type": "code",
   "execution_count": 7,
   "metadata": {},
   "outputs": [
    {
     "data": {
      "text/html": [
       "<div>\n",
       "<style scoped>\n",
       "    .dataframe tbody tr th:only-of-type {\n",
       "        vertical-align: middle;\n",
       "    }\n",
       "\n",
       "    .dataframe tbody tr th {\n",
       "        vertical-align: top;\n",
       "    }\n",
       "\n",
       "    .dataframe thead th {\n",
       "        text-align: right;\n",
       "    }\n",
       "</style>\n",
       "<table border=\"1\" class=\"dataframe\">\n",
       "  <thead>\n",
       "    <tr style=\"text-align: right;\">\n",
       "      <th></th>\n",
       "      <th>Cities</th>\n",
       "      <th>Latitude</th>\n",
       "      <th>Longitude</th>\n",
       "      <th>Temp</th>\n",
       "      <th>Humidity</th>\n",
       "      <th>Cloudiness</th>\n",
       "      <th>Windspeed</th>\n",
       "      <th>Country</th>\n",
       "      <th>Date</th>\n",
       "    </tr>\n",
       "  </thead>\n",
       "  <tbody>\n",
       "  </tbody>\n",
       "</table>\n",
       "</div>"
      ],
      "text/plain": [
       "Empty DataFrame\n",
       "Columns: [Cities, Latitude, Longitude, Temp, Humidity, Cloudiness, Windspeed, Country, Date]\n",
       "Index: []"
      ]
     },
     "execution_count": 7,
     "metadata": {},
     "output_type": "execute_result"
    }
   ],
   "source": [
    "# Inspect the data and remove the cities where the humidity > 100%\n",
    "#  Get the indices of cities that have humidity over 100%.\n",
    "update_df = weather_df[weather_df[\"Humidity\"] > 100]\n",
    "update_df"
   ]
  },
  {
   "cell_type": "code",
   "execution_count": 8,
   "metadata": {},
   "outputs": [],
   "source": [
    "# Make a new DataFrame equal to the city data to drop all humidity outliers by index.\n",
    "# Passing \"inplace=False\" will make a copy of the city_data DataFrame, which we call \"clean_city_data\"."
   ]
  },
  {
   "cell_type": "code",
   "execution_count": 10,
   "metadata": {},
   "outputs": [],
   "source": [
    "# Extract relevant fields from the data frame\n",
    "\n",
    "\n",
    "# Export the City_Data into a csv\n",
    "weather_df.to_csv(\"output_data_file\",index = False)"
   ]
  },
  {
   "cell_type": "code",
   "execution_count": 10,
   "metadata": {},
   "outputs": [
    {
     "data": {
      "image/png": "[encoded data removed]",
      "text/plain": [
       "<Figure size 432x288 with 1 Axes>"
      ]
     },
     "metadata": {
      "needs_background": "light"
     },
     "output_type": "display_data"
    }
   ],
   "source": [
    "# Latitude vs. Temperature Plot\n",
    "# Temperature (F) vs. Latitude\n",
    "x_values = weather_df['Latitude']\n",
    "y_values = weather_df['Temp']\n",
    "plt.scatter(x_values,y_values)\n",
    "plt.xlabel('Latitude')\n",
    "plt.ylabel('Temperature (F)')\n",
    "plt.show()"
   ]
  },
  {
   "cell_type": "code",
   "execution_count": 11,
   "metadata": {},
   "outputs": [
    {
     "data": {
      "image/png": "[encoded data removed]",
      "text/plain": [
       "<Figure size 432x288 with 1 Axes>"
      ]
     },
     "metadata": {
      "needs_background": "light"
     },
     "output_type": "display_data"
    }
   ],
   "source": [
    "# Latitude vs. Humidity Plot\n",
    "# Humidity (%) vs. Latitude\n",
    "x_values = weather_df['Humidity']\n",
    "y_values = weather_df['Latitude']\n",
    "plt.scatter(x_values,y_values)\n",
    "plt.xlabel('Humidity')\n",
    "plt.ylabel('Latitude')\n",
    "plt.show()"
   ]
  },
  {
   "cell_type": "code",
   "execution_count": 12,
   "metadata": {},
   "outputs": [
    {
     "data": {
      "image/png": "[encoded data removed]",
      "text/plain": [
       "<Figure size 432x288 with 1 Axes>"
      ]
     },
     "metadata": {
      "needs_background": "light"
     },
     "output_type": "display_data"
    }
   ],
   "source": [
    "# Latitude vs. Cloudiness Plot\n",
    "# Cloudiness (%) vs. Latitude\n",
    "x_values = weather_df['Latitude']\n",
    "y_values = weather_df['Cloudiness']\n",
    "plt.scatter(x_values,y_values)\n",
    "plt.xlabel('Latitude')\n",
    "plt.ylabel('Cloudiness')\n",
    "plt.show()"
   ]
  },
  {
   "cell_type": "code",
   "execution_count": 13,
   "metadata": {},
   "outputs": [
    {
     "data": {
      "image/png": "[encoded data removed]",
      "text/plain": [
       "<Figure size 432x288 with 1 Axes>"
      ]
     },
     "metadata": {
      "needs_background": "light"
     },
     "output_type": "display_data"
    }
   ],
   "source": [
    "# Latitude vs. Wind Speed Plot\n",
    "# Wind Speed (mph) vs. Latitude\n",
    "x_values = weather_df['Latitude']\n",
    "y_values = weather_df['Windspeed']\n",
    "plt.scatter(x_values,y_values)\n",
    "plt.xlabel('Latitude')\n",
    "plt.ylabel('Windspeed')\n",
    "plt.show()"
   ]
  },
  {
   "cell_type": "code",
   "execution_count": 11,
   "metadata": {
    "scrolled": true
   },
   "outputs": [],
   "source": [
    "# Northern Hemisphere (greater than or equal to 0 degrees latitude) and Southern Hemisphere (less than 0 degrees latitude)\n",
    "n_df = weather_df[weather_df[\"Latitude\"] >= 0]\n",
    "s_df = weather_df[weather_df[\"Latitude\"] < 0]"
   ]
  },
  {
   "cell_type": "code",
   "execution_count": 12,
   "metadata": {},
   "outputs": [],
   "source": [
    "def linear_reg(x_values, y_values, ylabel):\n",
    "    (slope, intercept, rvalue, pvalue, stderr) = linregress(x_values, y_values)\n",
    "    regress_values = x_values * slope + intercept\n",
    "    line_eq = \"y = \" + str(round(slope,2)) + \"x + \" + str(round(intercept,2))\n",
    "    plt.scatter(x_values,y_values)\n",
    "    plt.plot(x_values,regress_values,\"r-\")\n",
    "    plt.annotate(line_eq,(6,10),fontsize=15,color=\"red\")\n",
    "    plt.xlabel('Latitude')\n",
    "    plt.ylabel(ylabel)\n",
    "    plt.show()"
   ]
  },
  {
   "cell_type": "code",
   "execution_count": 19,
   "metadata": {},
   "outputs": [
    {
     "data": {
      "image/png": "[encoded data removed]",
      "text/plain": [
       "<Figure size 432x288 with 1 Axes>"
      ]
     },
     "metadata": {
      "needs_background": "light"
     },
     "output_type": "display_data"
    }
   ],
   "source": [
    "# Northern Hemisphere - Temperature (F) vs. Latitude\n",
    "x_values = n_df[\"Latitude\"]\n",
    "y_values = n_df[\"Temp\"]\n",
    "linear_reg(x_values, y_values, \"Temp\")\n"
   ]
  },
  {
   "cell_type": "code",
   "execution_count": null,
   "metadata": {},
   "outputs": [],
   "source": [
    "# Observation 1: The above is very well corelated. Seems to be even on both sides of the linear reg line. \n",
    "# I would say with confidence that there is a relationship between increasing latitude and decreasing temp"
   ]
  },
  {
   "cell_type": "code",
   "execution_count": 21,
   "metadata": {},
   "outputs": [
    {
     "data": {
      "image/png": "[encoded data removed]",
      "text/plain": [
       "<Figure size 432x288 with 1 Axes>"
      ]
     },
     "metadata": {
      "needs_background": "light"
     },
     "output_type": "display_data"
    }
   ],
   "source": [
    "# Southern Hemisphere - Temperature (F) vs. Latitude\n",
    "x_values = s_df[\"Latitude\"]\n",
    "y_values = s_df[\"Temp\"]\n",
    "linear_reg(x_values, y_values, \"Temp\")\n"
   ]
  },
  {
   "cell_type": "code",
   "execution_count": 16,
   "metadata": {},
   "outputs": [],
   "source": [
    "# Observation 2: The above is also decently corelated. Not as even on each side of the line but close. \n",
    "# I would say  that there is a relationship between decreasing latitude and increasing temp"
   ]
  },
  {
   "cell_type": "code",
   "execution_count": 25,
   "metadata": {
    "scrolled": true
   },
   "outputs": [
    {
     "ename": "ValueError",
     "evalue": "Image size of 405x637694 pixels is too large. It must be less than 2^16 in each direction.",
     "output_type": "error",
     "traceback": [
      "\u001b[1;31m---------------------------------------------------------------------------\u001b[0m",
      "\u001b[1;31mValueError\u001b[0m                                Traceback (most recent call last)",
      "\u001b[1;32m~\\AppData\\Local\\Continuum\\anaconda3\\envs\\PythonData\\lib\\site-packages\\IPython\\core\\formatters.py\u001b[0m in \u001b[0;36m__call__\u001b[1;34m(self, obj)\u001b[0m\n\u001b[0;32m    339\u001b[0m                 \u001b[1;32mpass\u001b[0m\u001b[1;33m\u001b[0m\u001b[1;33m\u001b[0m\u001b[0m\n\u001b[0;32m    340\u001b[0m             \u001b[1;32melse\u001b[0m\u001b[1;33m:\u001b[0m\u001b[1;33m\u001b[0m\u001b[1;33m\u001b[0m\u001b[0m\n\u001b[1;32m--> 341\u001b[1;33m                 \u001b[1;32mreturn\u001b[0m \u001b[0mprinter\u001b[0m\u001b[1;33m(\u001b[0m\u001b[0mobj\u001b[0m\u001b[1;33m)\u001b[0m\u001b[1;33m\u001b[0m\u001b[1;33m\u001b[0m\u001b[0m\n\u001b[0m\u001b[0;32m    342\u001b[0m             \u001b[1;31m# Finally look for special method names\u001b[0m\u001b[1;33m\u001b[0m\u001b[1;33m\u001b[0m\u001b[1;33m\u001b[0m\u001b[0m\n\u001b[0;32m    343\u001b[0m             \u001b[0mmethod\u001b[0m \u001b[1;33m=\u001b[0m \u001b[0mget_real_method\u001b[0m\u001b[1;33m(\u001b[0m\u001b[0mobj\u001b[0m\u001b[1;33m,\u001b[0m \u001b[0mself\u001b[0m\u001b[1;33m.\u001b[0m\u001b[0mprint_method\u001b[0m\u001b[1;33m)\u001b[0m\u001b[1;33m\u001b[0m\u001b[1;33m\u001b[0m\u001b[0m\n",
      "\u001b[1;32m~\\AppData\\Local\\Continuum\\anaconda3\\envs\\PythonData\\lib\\site-packages\\IPython\\core\\pylabtools.py\u001b[0m in \u001b[0;36m<lambda>\u001b[1;34m(fig)\u001b[0m\n\u001b[0;32m    246\u001b[0m \u001b[1;33m\u001b[0m\u001b[0m\n\u001b[0;32m    247\u001b[0m     \u001b[1;32mif\u001b[0m \u001b[1;34m'png'\u001b[0m \u001b[1;32min\u001b[0m \u001b[0mformats\u001b[0m\u001b[1;33m:\u001b[0m\u001b[1;33m\u001b[0m\u001b[1;33m\u001b[0m\u001b[0m\n\u001b[1;32m--> 248\u001b[1;33m         \u001b[0mpng_formatter\u001b[0m\u001b[1;33m.\u001b[0m\u001b[0mfor_type\u001b[0m\u001b[1;33m(\u001b[0m\u001b[0mFigure\u001b[0m\u001b[1;33m,\u001b[0m \u001b[1;32mlambda\u001b[0m \u001b[0mfig\u001b[0m\u001b[1;33m:\u001b[0m \u001b[0mprint_figure\u001b[0m\u001b[1;33m(\u001b[0m\u001b[0mfig\u001b[0m\u001b[1;33m,\u001b[0m \u001b[1;34m'png'\u001b[0m\u001b[1;33m,\u001b[0m \u001b[1;33m**\u001b[0m\u001b[0mkwargs\u001b[0m\u001b[1;33m)\u001b[0m\u001b[1;33m)\u001b[0m\u001b[1;33m\u001b[0m\u001b[1;33m\u001b[0m\u001b[0m\n\u001b[0m\u001b[0;32m    249\u001b[0m     \u001b[1;32mif\u001b[0m \u001b[1;34m'retina'\u001b[0m \u001b[1;32min\u001b[0m \u001b[0mformats\u001b[0m \u001b[1;32mor\u001b[0m \u001b[1;34m'png2x'\u001b[0m \u001b[1;32min\u001b[0m \u001b[0mformats\u001b[0m\u001b[1;33m:\u001b[0m\u001b[1;33m\u001b[0m\u001b[1;33m\u001b[0m\u001b[0m\n\u001b[0;32m    250\u001b[0m         \u001b[0mpng_formatter\u001b[0m\u001b[1;33m.\u001b[0m\u001b[0mfor_type\u001b[0m\u001b[1;33m(\u001b[0m\u001b[0mFigure\u001b[0m\u001b[1;33m,\u001b[0m \u001b[1;32mlambda\u001b[0m \u001b[0mfig\u001b[0m\u001b[1;33m:\u001b[0m \u001b[0mretina_figure\u001b[0m\u001b[1;33m(\u001b[0m\u001b[0mfig\u001b[0m\u001b[1;33m,\u001b[0m \u001b[1;33m**\u001b[0m\u001b[0mkwargs\u001b[0m\u001b[1;33m)\u001b[0m\u001b[1;33m)\u001b[0m\u001b[1;33m\u001b[0m\u001b[1;33m\u001b[0m\u001b[0m\n",
      "\u001b[1;32m~\\AppData\\Local\\Continuum\\anaconda3\\envs\\PythonData\\lib\\site-packages\\IPython\\core\\pylabtools.py\u001b[0m in \u001b[0;36mprint_figure\u001b[1;34m(fig, fmt, bbox_inches, **kwargs)\u001b[0m\n\u001b[0;32m    130\u001b[0m         \u001b[0mFigureCanvasBase\u001b[0m\u001b[1;33m(\u001b[0m\u001b[0mfig\u001b[0m\u001b[1;33m)\u001b[0m\u001b[1;33m\u001b[0m\u001b[1;33m\u001b[0m\u001b[0m\n\u001b[0;32m    131\u001b[0m \u001b[1;33m\u001b[0m\u001b[0m\n\u001b[1;32m--> 132\u001b[1;33m     \u001b[0mfig\u001b[0m\u001b[1;33m.\u001b[0m\u001b[0mcanvas\u001b[0m\u001b[1;33m.\u001b[0m\u001b[0mprint_figure\u001b[0m\u001b[1;33m(\u001b[0m\u001b[0mbytes_io\u001b[0m\u001b[1;33m,\u001b[0m \u001b[1;33m**\u001b[0m\u001b[0mkw\u001b[0m\u001b[1;33m)\u001b[0m\u001b[1;33m\u001b[0m\u001b[1;33m\u001b[0m\u001b[0m\n\u001b[0m\u001b[0;32m    133\u001b[0m     \u001b[0mdata\u001b[0m \u001b[1;33m=\u001b[0m \u001b[0mbytes_io\u001b[0m\u001b[1;33m.\u001b[0m\u001b[0mgetvalue\u001b[0m\u001b[1;33m(\u001b[0m\u001b[1;33m)\u001b[0m\u001b[1;33m\u001b[0m\u001b[1;33m\u001b[0m\u001b[0m\n\u001b[0;32m    134\u001b[0m     \u001b[1;32mif\u001b[0m \u001b[0mfmt\u001b[0m \u001b[1;33m==\u001b[0m \u001b[1;34m'svg'\u001b[0m\u001b[1;33m:\u001b[0m\u001b[1;33m\u001b[0m\u001b[1;33m\u001b[0m\u001b[0m\n",
      "\u001b[1;32m~\\AppData\\Local\\Continuum\\anaconda3\\envs\\PythonData\\lib\\site-packages\\matplotlib\\backend_bases.py\u001b[0m in \u001b[0;36mprint_figure\u001b[1;34m(self, filename, dpi, facecolor, edgecolor, orientation, format, bbox_inches, **kwargs)\u001b[0m\n\u001b[0;32m   2089\u001b[0m                     \u001b[0morientation\u001b[0m\u001b[1;33m=\u001b[0m\u001b[0morientation\u001b[0m\u001b[1;33m,\u001b[0m\u001b[1;33m\u001b[0m\u001b[1;33m\u001b[0m\u001b[0m\n\u001b[0;32m   2090\u001b[0m                     \u001b[0mbbox_inches_restore\u001b[0m\u001b[1;33m=\u001b[0m\u001b[0m_bbox_inches_restore\u001b[0m\u001b[1;33m,\u001b[0m\u001b[1;33m\u001b[0m\u001b[1;33m\u001b[0m\u001b[0m\n\u001b[1;32m-> 2091\u001b[1;33m                     **kwargs)\n\u001b[0m\u001b[0;32m   2092\u001b[0m             \u001b[1;32mfinally\u001b[0m\u001b[1;33m:\u001b[0m\u001b[1;33m\u001b[0m\u001b[1;33m\u001b[0m\u001b[0m\n\u001b[0;32m   2093\u001b[0m                 \u001b[1;32mif\u001b[0m \u001b[0mbbox_inches\u001b[0m \u001b[1;32mand\u001b[0m \u001b[0mrestore_bbox\u001b[0m\u001b[1;33m:\u001b[0m\u001b[1;33m\u001b[0m\u001b[1;33m\u001b[0m\u001b[0m\n",
      "\u001b[1;32m~\\AppData\\Local\\Continuum\\anaconda3\\envs\\PythonData\\lib\\site-packages\\matplotlib\\backends\\backend_agg.py\u001b[0m in \u001b[0;36mprint_png\u001b[1;34m(self, filename_or_obj, metadata, pil_kwargs, *args, **kwargs)\u001b[0m\n\u001b[0;32m    525\u001b[0m \u001b[1;33m\u001b[0m\u001b[0m\n\u001b[0;32m    526\u001b[0m         \u001b[1;32melse\u001b[0m\u001b[1;33m:\u001b[0m\u001b[1;33m\u001b[0m\u001b[1;33m\u001b[0m\u001b[0m\n\u001b[1;32m--> 527\u001b[1;33m             \u001b[0mFigureCanvasAgg\u001b[0m\u001b[1;33m.\u001b[0m\u001b[0mdraw\u001b[0m\u001b[1;33m(\u001b[0m\u001b[0mself\u001b[0m\u001b[1;33m)\u001b[0m\u001b[1;33m\u001b[0m\u001b[1;33m\u001b[0m\u001b[0m\n\u001b[0m\u001b[0;32m    528\u001b[0m             \u001b[0mrenderer\u001b[0m \u001b[1;33m=\u001b[0m \u001b[0mself\u001b[0m\u001b[1;33m.\u001b[0m\u001b[0mget_renderer\u001b[0m\u001b[1;33m(\u001b[0m\u001b[1;33m)\u001b[0m\u001b[1;33m\u001b[0m\u001b[1;33m\u001b[0m\u001b[0m\n\u001b[0;32m    529\u001b[0m             \u001b[1;32mwith\u001b[0m \u001b[0mcbook\u001b[0m\u001b[1;33m.\u001b[0m\u001b[0m_setattr_cm\u001b[0m\u001b[1;33m(\u001b[0m\u001b[0mrenderer\u001b[0m\u001b[1;33m,\u001b[0m \u001b[0mdpi\u001b[0m\u001b[1;33m=\u001b[0m\u001b[0mself\u001b[0m\u001b[1;33m.\u001b[0m\u001b[0mfigure\u001b[0m\u001b[1;33m.\u001b[0m\u001b[0mdpi\u001b[0m\u001b[1;33m)\u001b[0m\u001b[1;33m,\u001b[0m\u001b[0;31m \u001b[0m\u001b[0;31m\\\u001b[0m\u001b[1;33m\u001b[0m\u001b[1;33m\u001b[0m\u001b[0m\n",
      "\u001b[1;32m~\\AppData\\Local\\Continuum\\anaconda3\\envs\\PythonData\\lib\\site-packages\\matplotlib\\backends\\backend_agg.py\u001b[0m in \u001b[0;36mdraw\u001b[1;34m(self)\u001b[0m\n\u001b[0;32m    384\u001b[0m         \u001b[0mDraw\u001b[0m \u001b[0mthe\u001b[0m \u001b[0mfigure\u001b[0m \u001b[0musing\u001b[0m \u001b[0mthe\u001b[0m \u001b[0mrenderer\u001b[0m\u001b[1;33m.\u001b[0m\u001b[1;33m\u001b[0m\u001b[1;33m\u001b[0m\u001b[0m\n\u001b[0;32m    385\u001b[0m         \"\"\"\n\u001b[1;32m--> 386\u001b[1;33m         \u001b[0mself\u001b[0m\u001b[1;33m.\u001b[0m\u001b[0mrenderer\u001b[0m \u001b[1;33m=\u001b[0m \u001b[0mself\u001b[0m\u001b[1;33m.\u001b[0m\u001b[0mget_renderer\u001b[0m\u001b[1;33m(\u001b[0m\u001b[0mcleared\u001b[0m\u001b[1;33m=\u001b[0m\u001b[1;32mTrue\u001b[0m\u001b[1;33m)\u001b[0m\u001b[1;33m\u001b[0m\u001b[1;33m\u001b[0m\u001b[0m\n\u001b[0m\u001b[0;32m    387\u001b[0m         \u001b[1;32mwith\u001b[0m \u001b[0mRendererAgg\u001b[0m\u001b[1;33m.\u001b[0m\u001b[0mlock\u001b[0m\u001b[1;33m:\u001b[0m\u001b[1;33m\u001b[0m\u001b[1;33m\u001b[0m\u001b[0m\n\u001b[0;32m    388\u001b[0m             \u001b[0mself\u001b[0m\u001b[1;33m.\u001b[0m\u001b[0mfigure\u001b[0m\u001b[1;33m.\u001b[0m\u001b[0mdraw\u001b[0m\u001b[1;33m(\u001b[0m\u001b[0mself\u001b[0m\u001b[1;33m.\u001b[0m\u001b[0mrenderer\u001b[0m\u001b[1;33m)\u001b[0m\u001b[1;33m\u001b[0m\u001b[1;33m\u001b[0m\u001b[0m\n",
      "\u001b[1;32m~\\AppData\\Local\\Continuum\\anaconda3\\envs\\PythonData\\lib\\site-packages\\matplotlib\\backends\\backend_agg.py\u001b[0m in \u001b[0;36mget_renderer\u001b[1;34m(self, cleared)\u001b[0m\n\u001b[0;32m    397\u001b[0m                           and getattr(self, \"_lastKey\", None) == key)\n\u001b[0;32m    398\u001b[0m         \u001b[1;32mif\u001b[0m \u001b[1;32mnot\u001b[0m \u001b[0mreuse_renderer\u001b[0m\u001b[1;33m:\u001b[0m\u001b[1;33m\u001b[0m\u001b[1;33m\u001b[0m\u001b[0m\n\u001b[1;32m--> 399\u001b[1;33m             \u001b[0mself\u001b[0m\u001b[1;33m.\u001b[0m\u001b[0mrenderer\u001b[0m \u001b[1;33m=\u001b[0m \u001b[0mRendererAgg\u001b[0m\u001b[1;33m(\u001b[0m\u001b[0mw\u001b[0m\u001b[1;33m,\u001b[0m \u001b[0mh\u001b[0m\u001b[1;33m,\u001b[0m \u001b[0mself\u001b[0m\u001b[1;33m.\u001b[0m\u001b[0mfigure\u001b[0m\u001b[1;33m.\u001b[0m\u001b[0mdpi\u001b[0m\u001b[1;33m)\u001b[0m\u001b[1;33m\u001b[0m\u001b[1;33m\u001b[0m\u001b[0m\n\u001b[0m\u001b[0;32m    400\u001b[0m             \u001b[0mself\u001b[0m\u001b[1;33m.\u001b[0m\u001b[0m_lastKey\u001b[0m \u001b[1;33m=\u001b[0m \u001b[0mkey\u001b[0m\u001b[1;33m\u001b[0m\u001b[1;33m\u001b[0m\u001b[0m\n\u001b[0;32m    401\u001b[0m         \u001b[1;32melif\u001b[0m \u001b[0mcleared\u001b[0m\u001b[1;33m:\u001b[0m\u001b[1;33m\u001b[0m\u001b[1;33m\u001b[0m\u001b[0m\n",
      "\u001b[1;32m~\\AppData\\Local\\Continuum\\anaconda3\\envs\\PythonData\\lib\\site-packages\\matplotlib\\backends\\backend_agg.py\u001b[0m in \u001b[0;36m__init__\u001b[1;34m(self, width, height, dpi)\u001b[0m\n\u001b[0;32m     84\u001b[0m         \u001b[0mself\u001b[0m\u001b[1;33m.\u001b[0m\u001b[0mwidth\u001b[0m \u001b[1;33m=\u001b[0m \u001b[0mwidth\u001b[0m\u001b[1;33m\u001b[0m\u001b[1;33m\u001b[0m\u001b[0m\n\u001b[0;32m     85\u001b[0m         \u001b[0mself\u001b[0m\u001b[1;33m.\u001b[0m\u001b[0mheight\u001b[0m \u001b[1;33m=\u001b[0m \u001b[0mheight\u001b[0m\u001b[1;33m\u001b[0m\u001b[1;33m\u001b[0m\u001b[0m\n\u001b[1;32m---> 86\u001b[1;33m         \u001b[0mself\u001b[0m\u001b[1;33m.\u001b[0m\u001b[0m_renderer\u001b[0m \u001b[1;33m=\u001b[0m \u001b[0m_RendererAgg\u001b[0m\u001b[1;33m(\u001b[0m\u001b[0mint\u001b[0m\u001b[1;33m(\u001b[0m\u001b[0mwidth\u001b[0m\u001b[1;33m)\u001b[0m\u001b[1;33m,\u001b[0m \u001b[0mint\u001b[0m\u001b[1;33m(\u001b[0m\u001b[0mheight\u001b[0m\u001b[1;33m)\u001b[0m\u001b[1;33m,\u001b[0m \u001b[0mdpi\u001b[0m\u001b[1;33m)\u001b[0m\u001b[1;33m\u001b[0m\u001b[1;33m\u001b[0m\u001b[0m\n\u001b[0m\u001b[0;32m     87\u001b[0m         \u001b[0mself\u001b[0m\u001b[1;33m.\u001b[0m\u001b[0m_filter_renderers\u001b[0m \u001b[1;33m=\u001b[0m \u001b[1;33m[\u001b[0m\u001b[1;33m]\u001b[0m\u001b[1;33m\u001b[0m\u001b[1;33m\u001b[0m\u001b[0m\n\u001b[0;32m     88\u001b[0m \u001b[1;33m\u001b[0m\u001b[0m\n",
      "\u001b[1;31mValueError\u001b[0m: Image size of 405x637694 pixels is too large. It must be less than 2^16 in each direction."
     ]
    },
    {
     "data": {
      "text/plain": [
       "<Figure size 432x288 with 1 Axes>"
      ]
     },
     "metadata": {
      "needs_background": "light"
     },
     "output_type": "display_data"
    }
   ],
   "source": [
    "# Northern Hemisphere - Humidity (%) vs. Latitude\n",
    "x_values = n_df[\"Latitude\"]\n",
    "y_values = n_df[\"Humidity\"]\n",
    "linear_reg(x_values, y_values, \"Latitude\")\n"
   ]
  },
  {
   "cell_type": "code",
   "execution_count": 26,
   "metadata": {},
   "outputs": [
    {
     "name": "stderr",
     "output_type": "stream",
     "text": [
      "C:\\Users\\SESA284039\\AppData\\Local\\Continuum\\anaconda3\\envs\\PythonData\\lib\\site-packages\\scipy\\stats\\_stats_mstats_common.py:130: RuntimeWarning: invalid value encountered in double_scalars\n",
      "  slope = r_num / ssxm\n",
      "C:\\Users\\SESA284039\\AppData\\Local\\Continuum\\anaconda3\\envs\\PythonData\\lib\\site-packages\\scipy\\stats\\_stats_mstats_common.py:142: RuntimeWarning: divide by zero encountered in double_scalars\n",
      "  sterrest = np.sqrt((1 - r**2) * ssym / ssxm / df)\n"
     ]
    },
    {
     "ename": "ValueError",
     "evalue": "Image size of 1579646x301 pixels is too large. It must be less than 2^16 in each direction.",
     "output_type": "error",
     "traceback": [
      "\u001b[1;31m---------------------------------------------------------------------------\u001b[0m",
      "\u001b[1;31mValueError\u001b[0m                                Traceback (most recent call last)",
      "\u001b[1;32m~\\AppData\\Local\\Continuum\\anaconda3\\envs\\PythonData\\lib\\site-packages\\IPython\\core\\formatters.py\u001b[0m in \u001b[0;36m__call__\u001b[1;34m(self, obj)\u001b[0m\n\u001b[0;32m    339\u001b[0m                 \u001b[1;32mpass\u001b[0m\u001b[1;33m\u001b[0m\u001b[1;33m\u001b[0m\u001b[0m\n\u001b[0;32m    340\u001b[0m             \u001b[1;32melse\u001b[0m\u001b[1;33m:\u001b[0m\u001b[1;33m\u001b[0m\u001b[1;33m\u001b[0m\u001b[0m\n\u001b[1;32m--> 341\u001b[1;33m                 \u001b[1;32mreturn\u001b[0m \u001b[0mprinter\u001b[0m\u001b[1;33m(\u001b[0m\u001b[0mobj\u001b[0m\u001b[1;33m)\u001b[0m\u001b[1;33m\u001b[0m\u001b[1;33m\u001b[0m\u001b[0m\n\u001b[0m\u001b[0;32m    342\u001b[0m             \u001b[1;31m# Finally look for special method names\u001b[0m\u001b[1;33m\u001b[0m\u001b[1;33m\u001b[0m\u001b[1;33m\u001b[0m\u001b[0m\n\u001b[0;32m    343\u001b[0m             \u001b[0mmethod\u001b[0m \u001b[1;33m=\u001b[0m \u001b[0mget_real_method\u001b[0m\u001b[1;33m(\u001b[0m\u001b[0mobj\u001b[0m\u001b[1;33m,\u001b[0m \u001b[0mself\u001b[0m\u001b[1;33m.\u001b[0m\u001b[0mprint_method\u001b[0m\u001b[1;33m)\u001b[0m\u001b[1;33m\u001b[0m\u001b[1;33m\u001b[0m\u001b[0m\n",
      "\u001b[1;32m~\\AppData\\Local\\Continuum\\anaconda3\\envs\\PythonData\\lib\\site-packages\\IPython\\core\\pylabtools.py\u001b[0m in \u001b[0;36m<lambda>\u001b[1;34m(fig)\u001b[0m\n\u001b[0;32m    246\u001b[0m \u001b[1;33m\u001b[0m\u001b[0m\n\u001b[0;32m    247\u001b[0m     \u001b[1;32mif\u001b[0m \u001b[1;34m'png'\u001b[0m \u001b[1;32min\u001b[0m \u001b[0mformats\u001b[0m\u001b[1;33m:\u001b[0m\u001b[1;33m\u001b[0m\u001b[1;33m\u001b[0m\u001b[0m\n\u001b[1;32m--> 248\u001b[1;33m         \u001b[0mpng_formatter\u001b[0m\u001b[1;33m.\u001b[0m\u001b[0mfor_type\u001b[0m\u001b[1;33m(\u001b[0m\u001b[0mFigure\u001b[0m\u001b[1;33m,\u001b[0m \u001b[1;32mlambda\u001b[0m \u001b[0mfig\u001b[0m\u001b[1;33m:\u001b[0m \u001b[0mprint_figure\u001b[0m\u001b[1;33m(\u001b[0m\u001b[0mfig\u001b[0m\u001b[1;33m,\u001b[0m \u001b[1;34m'png'\u001b[0m\u001b[1;33m,\u001b[0m \u001b[1;33m**\u001b[0m\u001b[0mkwargs\u001b[0m\u001b[1;33m)\u001b[0m\u001b[1;33m)\u001b[0m\u001b[1;33m\u001b[0m\u001b[1;33m\u001b[0m\u001b[0m\n\u001b[0m\u001b[0;32m    249\u001b[0m     \u001b[1;32mif\u001b[0m \u001b[1;34m'retina'\u001b[0m \u001b[1;32min\u001b[0m \u001b[0mformats\u001b[0m \u001b[1;32mor\u001b[0m \u001b[1;34m'png2x'\u001b[0m \u001b[1;32min\u001b[0m \u001b[0mformats\u001b[0m\u001b[1;33m:\u001b[0m\u001b[1;33m\u001b[0m\u001b[1;33m\u001b[0m\u001b[0m\n\u001b[0;32m    250\u001b[0m         \u001b[0mpng_formatter\u001b[0m\u001b[1;33m.\u001b[0m\u001b[0mfor_type\u001b[0m\u001b[1;33m(\u001b[0m\u001b[0mFigure\u001b[0m\u001b[1;33m,\u001b[0m \u001b[1;32mlambda\u001b[0m \u001b[0mfig\u001b[0m\u001b[1;33m:\u001b[0m \u001b[0mretina_figure\u001b[0m\u001b[1;33m(\u001b[0m\u001b[0mfig\u001b[0m\u001b[1;33m,\u001b[0m \u001b[1;33m**\u001b[0m\u001b[0mkwargs\u001b[0m\u001b[1;33m)\u001b[0m\u001b[1;33m)\u001b[0m\u001b[1;33m\u001b[0m\u001b[1;33m\u001b[0m\u001b[0m\n",
      "\u001b[1;32m~\\AppData\\Local\\Continuum\\anaconda3\\envs\\PythonData\\lib\\site-packages\\IPython\\core\\pylabtools.py\u001b[0m in \u001b[0;36mprint_figure\u001b[1;34m(fig, fmt, bbox_inches, **kwargs)\u001b[0m\n\u001b[0;32m    130\u001b[0m         \u001b[0mFigureCanvasBase\u001b[0m\u001b[1;33m(\u001b[0m\u001b[0mfig\u001b[0m\u001b[1;33m)\u001b[0m\u001b[1;33m\u001b[0m\u001b[1;33m\u001b[0m\u001b[0m\n\u001b[0;32m    131\u001b[0m \u001b[1;33m\u001b[0m\u001b[0m\n\u001b[1;32m--> 132\u001b[1;33m     \u001b[0mfig\u001b[0m\u001b[1;33m.\u001b[0m\u001b[0mcanvas\u001b[0m\u001b[1;33m.\u001b[0m\u001b[0mprint_figure\u001b[0m\u001b[1;33m(\u001b[0m\u001b[0mbytes_io\u001b[0m\u001b[1;33m,\u001b[0m \u001b[1;33m**\u001b[0m\u001b[0mkw\u001b[0m\u001b[1;33m)\u001b[0m\u001b[1;33m\u001b[0m\u001b[1;33m\u001b[0m\u001b[0m\n\u001b[0m\u001b[0;32m    133\u001b[0m     \u001b[0mdata\u001b[0m \u001b[1;33m=\u001b[0m \u001b[0mbytes_io\u001b[0m\u001b[1;33m.\u001b[0m\u001b[0mgetvalue\u001b[0m\u001b[1;33m(\u001b[0m\u001b[1;33m)\u001b[0m\u001b[1;33m\u001b[0m\u001b[1;33m\u001b[0m\u001b[0m\n\u001b[0;32m    134\u001b[0m     \u001b[1;32mif\u001b[0m \u001b[0mfmt\u001b[0m \u001b[1;33m==\u001b[0m \u001b[1;34m'svg'\u001b[0m\u001b[1;33m:\u001b[0m\u001b[1;33m\u001b[0m\u001b[1;33m\u001b[0m\u001b[0m\n",
      "\u001b[1;32m~\\AppData\\Local\\Continuum\\anaconda3\\envs\\PythonData\\lib\\site-packages\\matplotlib\\backend_bases.py\u001b[0m in \u001b[0;36mprint_figure\u001b[1;34m(self, filename, dpi, facecolor, edgecolor, orientation, format, bbox_inches, **kwargs)\u001b[0m\n\u001b[0;32m   2089\u001b[0m                     \u001b[0morientation\u001b[0m\u001b[1;33m=\u001b[0m\u001b[0morientation\u001b[0m\u001b[1;33m,\u001b[0m\u001b[1;33m\u001b[0m\u001b[1;33m\u001b[0m\u001b[0m\n\u001b[0;32m   2090\u001b[0m                     \u001b[0mbbox_inches_restore\u001b[0m\u001b[1;33m=\u001b[0m\u001b[0m_bbox_inches_restore\u001b[0m\u001b[1;33m,\u001b[0m\u001b[1;33m\u001b[0m\u001b[1;33m\u001b[0m\u001b[0m\n\u001b[1;32m-> 2091\u001b[1;33m                     **kwargs)\n\u001b[0m\u001b[0;32m   2092\u001b[0m             \u001b[1;32mfinally\u001b[0m\u001b[1;33m:\u001b[0m\u001b[1;33m\u001b[0m\u001b[1;33m\u001b[0m\u001b[0m\n\u001b[0;32m   2093\u001b[0m                 \u001b[1;32mif\u001b[0m \u001b[0mbbox_inches\u001b[0m \u001b[1;32mand\u001b[0m \u001b[0mrestore_bbox\u001b[0m\u001b[1;33m:\u001b[0m\u001b[1;33m\u001b[0m\u001b[1;33m\u001b[0m\u001b[0m\n",
      "\u001b[1;32m~\\AppData\\Local\\Continuum\\anaconda3\\envs\\PythonData\\lib\\site-packages\\matplotlib\\backends\\backend_agg.py\u001b[0m in \u001b[0;36mprint_png\u001b[1;34m(self, filename_or_obj, metadata, pil_kwargs, *args, **kwargs)\u001b[0m\n\u001b[0;32m    525\u001b[0m \u001b[1;33m\u001b[0m\u001b[0m\n\u001b[0;32m    526\u001b[0m         \u001b[1;32melse\u001b[0m\u001b[1;33m:\u001b[0m\u001b[1;33m\u001b[0m\u001b[1;33m\u001b[0m\u001b[0m\n\u001b[1;32m--> 527\u001b[1;33m             \u001b[0mFigureCanvasAgg\u001b[0m\u001b[1;33m.\u001b[0m\u001b[0mdraw\u001b[0m\u001b[1;33m(\u001b[0m\u001b[0mself\u001b[0m\u001b[1;33m)\u001b[0m\u001b[1;33m\u001b[0m\u001b[1;33m\u001b[0m\u001b[0m\n\u001b[0m\u001b[0;32m    528\u001b[0m             \u001b[0mrenderer\u001b[0m \u001b[1;33m=\u001b[0m \u001b[0mself\u001b[0m\u001b[1;33m.\u001b[0m\u001b[0mget_renderer\u001b[0m\u001b[1;33m(\u001b[0m\u001b[1;33m)\u001b[0m\u001b[1;33m\u001b[0m\u001b[1;33m\u001b[0m\u001b[0m\n\u001b[0;32m    529\u001b[0m             \u001b[1;32mwith\u001b[0m \u001b[0mcbook\u001b[0m\u001b[1;33m.\u001b[0m\u001b[0m_setattr_cm\u001b[0m\u001b[1;33m(\u001b[0m\u001b[0mrenderer\u001b[0m\u001b[1;33m,\u001b[0m \u001b[0mdpi\u001b[0m\u001b[1;33m=\u001b[0m\u001b[0mself\u001b[0m\u001b[1;33m.\u001b[0m\u001b[0mfigure\u001b[0m\u001b[1;33m.\u001b[0m\u001b[0mdpi\u001b[0m\u001b[1;33m)\u001b[0m\u001b[1;33m,\u001b[0m\u001b[0;31m \u001b[0m\u001b[0;31m\\\u001b[0m\u001b[1;33m\u001b[0m\u001b[1;33m\u001b[0m\u001b[0m\n",
      "\u001b[1;32m~\\AppData\\Local\\Continuum\\anaconda3\\envs\\PythonData\\lib\\site-packages\\matplotlib\\backends\\backend_agg.py\u001b[0m in \u001b[0;36mdraw\u001b[1;34m(self)\u001b[0m\n\u001b[0;32m    384\u001b[0m         \u001b[0mDraw\u001b[0m \u001b[0mthe\u001b[0m \u001b[0mfigure\u001b[0m \u001b[0musing\u001b[0m \u001b[0mthe\u001b[0m \u001b[0mrenderer\u001b[0m\u001b[1;33m.\u001b[0m\u001b[1;33m\u001b[0m\u001b[1;33m\u001b[0m\u001b[0m\n\u001b[0;32m    385\u001b[0m         \"\"\"\n\u001b[1;32m--> 386\u001b[1;33m         \u001b[0mself\u001b[0m\u001b[1;33m.\u001b[0m\u001b[0mrenderer\u001b[0m \u001b[1;33m=\u001b[0m \u001b[0mself\u001b[0m\u001b[1;33m.\u001b[0m\u001b[0mget_renderer\u001b[0m\u001b[1;33m(\u001b[0m\u001b[0mcleared\u001b[0m\u001b[1;33m=\u001b[0m\u001b[1;32mTrue\u001b[0m\u001b[1;33m)\u001b[0m\u001b[1;33m\u001b[0m\u001b[1;33m\u001b[0m\u001b[0m\n\u001b[0m\u001b[0;32m    387\u001b[0m         \u001b[1;32mwith\u001b[0m \u001b[0mRendererAgg\u001b[0m\u001b[1;33m.\u001b[0m\u001b[0mlock\u001b[0m\u001b[1;33m:\u001b[0m\u001b[1;33m\u001b[0m\u001b[1;33m\u001b[0m\u001b[0m\n\u001b[0;32m    388\u001b[0m             \u001b[0mself\u001b[0m\u001b[1;33m.\u001b[0m\u001b[0mfigure\u001b[0m\u001b[1;33m.\u001b[0m\u001b[0mdraw\u001b[0m\u001b[1;33m(\u001b[0m\u001b[0mself\u001b[0m\u001b[1;33m.\u001b[0m\u001b[0mrenderer\u001b[0m\u001b[1;33m)\u001b[0m\u001b[1;33m\u001b[0m\u001b[1;33m\u001b[0m\u001b[0m\n",
      "\u001b[1;32m~\\AppData\\Local\\Continuum\\anaconda3\\envs\\PythonData\\lib\\site-packages\\matplotlib\\backends\\backend_agg.py\u001b[0m in \u001b[0;36mget_renderer\u001b[1;34m(self, cleared)\u001b[0m\n\u001b[0;32m    397\u001b[0m                           and getattr(self, \"_lastKey\", None) == key)\n\u001b[0;32m    398\u001b[0m         \u001b[1;32mif\u001b[0m \u001b[1;32mnot\u001b[0m \u001b[0mreuse_renderer\u001b[0m\u001b[1;33m:\u001b[0m\u001b[1;33m\u001b[0m\u001b[1;33m\u001b[0m\u001b[0m\n\u001b[1;32m--> 399\u001b[1;33m             \u001b[0mself\u001b[0m\u001b[1;33m.\u001b[0m\u001b[0mrenderer\u001b[0m \u001b[1;33m=\u001b[0m \u001b[0mRendererAgg\u001b[0m\u001b[1;33m(\u001b[0m\u001b[0mw\u001b[0m\u001b[1;33m,\u001b[0m \u001b[0mh\u001b[0m\u001b[1;33m,\u001b[0m \u001b[0mself\u001b[0m\u001b[1;33m.\u001b[0m\u001b[0mfigure\u001b[0m\u001b[1;33m.\u001b[0m\u001b[0mdpi\u001b[0m\u001b[1;33m)\u001b[0m\u001b[1;33m\u001b[0m\u001b[1;33m\u001b[0m\u001b[0m\n\u001b[0m\u001b[0;32m    400\u001b[0m             \u001b[0mself\u001b[0m\u001b[1;33m.\u001b[0m\u001b[0m_lastKey\u001b[0m \u001b[1;33m=\u001b[0m \u001b[0mkey\u001b[0m\u001b[1;33m\u001b[0m\u001b[1;33m\u001b[0m\u001b[0m\n\u001b[0;32m    401\u001b[0m         \u001b[1;32melif\u001b[0m \u001b[0mcleared\u001b[0m\u001b[1;33m:\u001b[0m\u001b[1;33m\u001b[0m\u001b[1;33m\u001b[0m\u001b[0m\n",
      "\u001b[1;32m~\\AppData\\Local\\Continuum\\anaconda3\\envs\\PythonData\\lib\\site-packages\\matplotlib\\backends\\backend_agg.py\u001b[0m in \u001b[0;36m__init__\u001b[1;34m(self, width, height, dpi)\u001b[0m\n\u001b[0;32m     84\u001b[0m         \u001b[0mself\u001b[0m\u001b[1;33m.\u001b[0m\u001b[0mwidth\u001b[0m \u001b[1;33m=\u001b[0m \u001b[0mwidth\u001b[0m\u001b[1;33m\u001b[0m\u001b[1;33m\u001b[0m\u001b[0m\n\u001b[0;32m     85\u001b[0m         \u001b[0mself\u001b[0m\u001b[1;33m.\u001b[0m\u001b[0mheight\u001b[0m \u001b[1;33m=\u001b[0m \u001b[0mheight\u001b[0m\u001b[1;33m\u001b[0m\u001b[1;33m\u001b[0m\u001b[0m\n\u001b[1;32m---> 86\u001b[1;33m         \u001b[0mself\u001b[0m\u001b[1;33m.\u001b[0m\u001b[0m_renderer\u001b[0m \u001b[1;33m=\u001b[0m \u001b[0m_RendererAgg\u001b[0m\u001b[1;33m(\u001b[0m\u001b[0mint\u001b[0m\u001b[1;33m(\u001b[0m\u001b[0mwidth\u001b[0m\u001b[1;33m)\u001b[0m\u001b[1;33m,\u001b[0m \u001b[0mint\u001b[0m\u001b[1;33m(\u001b[0m\u001b[0mheight\u001b[0m\u001b[1;33m)\u001b[0m\u001b[1;33m,\u001b[0m \u001b[0mdpi\u001b[0m\u001b[1;33m)\u001b[0m\u001b[1;33m\u001b[0m\u001b[1;33m\u001b[0m\u001b[0m\n\u001b[0m\u001b[0;32m     87\u001b[0m         \u001b[0mself\u001b[0m\u001b[1;33m.\u001b[0m\u001b[0m_filter_renderers\u001b[0m \u001b[1;33m=\u001b[0m \u001b[1;33m[\u001b[0m\u001b[1;33m]\u001b[0m\u001b[1;33m\u001b[0m\u001b[1;33m\u001b[0m\u001b[0m\n\u001b[0;32m     88\u001b[0m \u001b[1;33m\u001b[0m\u001b[0m\n",
      "\u001b[1;31mValueError\u001b[0m: Image size of 1579646x301 pixels is too large. It must be less than 2^16 in each direction."
     ]
    },
    {
     "data": {
      "text/plain": [
       "<Figure size 432x288 with 1 Axes>"
      ]
     },
     "metadata": {
      "needs_background": "light"
     },
     "output_type": "display_data"
    }
   ],
   "source": [
    "# Southern Hemisphere - Humidity (%) vs. Latitude\n",
    "x_values = s_df[\"Humidity\"]\n",
    "y_values = s_df[\"Latitude\"]\n",
    "linear_reg(x_values, y_values, \"Latitude\")\n"
   ]
  },
  {
   "cell_type": "code",
   "execution_count": 27,
   "metadata": {},
   "outputs": [
    {
     "data": {
      "image/png": "[encoded data removed]",
      "text/plain": [
       "<Figure size 432x288 with 1 Axes>"
      ]
     },
     "metadata": {
      "needs_background": "light"
     },
     "output_type": "display_data"
    }
   ],
   "source": [
    "# Northern Hemisphere - Cloudiness (%) vs. Latitude\n",
    "x_values = n_df[\"Cloudiness\"]\n",
    "y_values = n_df[\"Latitude\"]\n",
    "linear_reg(x_values, y_values, \"Latitude\")"
   ]
  },
  {
   "cell_type": "code",
   "execution_count": null,
   "metadata": {},
   "outputs": [],
   "source": [
    "# Observation 3: I would say no obvious relationship between cloudiness and latitude"
   ]
  },
  {
   "cell_type": "code",
   "execution_count": 21,
   "metadata": {},
   "outputs": [
    {
     "data": {
      "image/png": "[encoded data removed]",
      "text/plain": [
       "<Figure size 432x288 with 1 Axes>"
      ]
     },
     "metadata": {
      "needs_background": "light"
     },
     "output_type": "display_data"
    }
   ],
   "source": [
    "# Southern Hemisphere - Cloudiness (%) vs. Latitude\n",
    "x_values = s_df[\"Cloudiness\"]\n",
    "y_values = s_df[\"Latitude\"]\n",
    "linear_reg(x_values, y_values, \"Latitude\")"
   ]
  },
  {
   "cell_type": "code",
   "execution_count": 22,
   "metadata": {},
   "outputs": [
    {
     "data": {
      "image/png": "[encoded data removed]",
      "text/plain": [
       "<Figure size 432x288 with 1 Axes>"
      ]
     },
     "metadata": {
      "needs_background": "light"
     },
     "output_type": "display_data"
    }
   ],
   "source": [
    "# Northern Hemisphere - Wind Speed (mph) vs. Latitude\n",
    "x_values = n_df[\"Windspeed\"]\n",
    "y_values = n_df[\"Latitude\"]\n",
    "linear_reg(x_values, y_values, \"Latitude\")"
   ]
  },
  {
   "cell_type": "code",
   "execution_count": 23,
   "metadata": {},
   "outputs": [
    {
     "data": {
      "image/png": "[encoded data removed]",
      "text/plain": [
       "<Figure size 432x288 with 1 Axes>"
      ]
     },
     "metadata": {
      "needs_background": "light"
     },
     "output_type": "display_data"
    }
   ],
   "source": [
    "# Southern Hemisphere - Wind Speed (mph) vs. Latitude\n",
    "x_values = s_df[\"Windspeed\"]\n",
    "y_values = s_df[\"Latitude\"]\n",
    "linear_reg(x_values, y_values, \"Latitude\")"
   ]
  },
  {
   "cell_type": "code",
   "execution_count": null,
   "metadata": {},
   "outputs": [],
   "source": []
  }
 ],
 "metadata": {
  "kernelspec": {
   "display_name": "Python 3",
   "language": "python",
   "name": "python3"
  },
  "language_info": {
   "codemirror_mode": {
    "name": "ipython",
    "version": 3
   },
   "file_extension": ".py",
   "mimetype": "text/x-python",
   "name": "python",
   "nbconvert_exporter": "python",
   "pygments_lexer": "ipython3",
   "version": "3.6.10"
  }
 },
 "nbformat": 4,
 "nbformat_minor": 2
}
